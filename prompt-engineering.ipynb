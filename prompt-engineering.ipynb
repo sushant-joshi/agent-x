{
 "cells": [
  {
   "cell_type": "markdown",
   "id": "dfecb035",
   "metadata": {
    "id": "jkxRSYjzA1oX",
    "papermill": {
     "duration": 0.012429,
     "end_time": "2024-11-22T20:34:58.925714",
     "exception": false,
     "start_time": "2024-11-22T20:34:58.913285",
     "status": "completed"
    },
    "tags": []
   },
   "source": [
    "##### Copyright 2024 Google LLC."
   ]
  },
  {
   "cell_type": "code",
   "execution_count": 1,
   "id": "5d0d726b",
   "metadata": {
    "cellView": "form",
    "execution": {
     "iopub.execute_input": "2024-11-22T20:34:58.951814Z",
     "iopub.status.busy": "2024-11-22T20:34:58.951274Z",
     "iopub.status.idle": "2024-11-22T20:34:58.957547Z",
     "shell.execute_reply": "2024-11-22T20:34:58.956376Z"
    },
    "id": "5u5OZ2ShA3BA",
    "papermill": {
     "duration": 0.022747,
     "end_time": "2024-11-22T20:34:58.959883",
     "exception": false,
     "start_time": "2024-11-22T20:34:58.937136",
     "status": "completed"
    },
    "tags": []
   },
   "outputs": [],
   "source": [
    "# @title Licensed under the Apache License, Version 2.0 (the \"License\");\n",
    "# you may not use this file except in compliance with the License.\n",
    "# You may obtain a copy of the License at\n",
    "#\n",
    "# https://www.apache.org/licenses/LICENSE-2.0\n",
    "#\n",
    "# Unless required by applicable law or agreed to in writing, software\n",
    "# distributed under the License is distributed on an \"AS IS\" BASIS,\n",
    "# WITHOUT WARRANTIES OR CONDITIONS OF ANY KIND, either express or implied.\n",
    "# See the License for the specific language governing permissions and\n",
    "# limitations under the License."
   ]
  },
  {
   "cell_type": "markdown",
   "id": "89493086",
   "metadata": {
    "id": "csNPnkuCobmG",
    "papermill": {
     "duration": 0.011227,
     "end_time": "2024-11-22T20:34:58.982508",
     "exception": false,
     "start_time": "2024-11-22T20:34:58.971281",
     "status": "completed"
    },
    "tags": []
   },
   "source": [
    "# Day 1 - Prompting\n",
    "\n",
    "Welcome to the Kaggle 5-day Generative AI course!\n",
    "\n",
    "This notebook will show you how to get started with the Gemini API and walk you through some of the example prompts and techniques that you can also read about in the Prompting whitepaper. You don't need to read the whitepaper to use this notebook, but the papers will give you some theoretical context and background to complement this interactive notebook.\n",
    "\n",
    "\n",
    "## Before you begin\n",
    "\n",
    "In this notebook, you'll start exploring prompts and prompt parameters using the Python SDK and AI Studio. For some inspiration, you might enjoy exploring some apps that have been built using the Gemini family of models. Here are a few that we like, and we think you will too.\n",
    "\n",
    "* [TextFX](https://textfx.withgoogle.com/) is a suite of AI-powered tools for rappers, made in collaboration with Lupe Fiasco,\n",
    "* [SQL Talk](https://sql-talk-r5gdynozbq-uc.a.run.app/) shows how you can talk directly to a database using the Gemini API,\n",
    "* [NotebookLM](https://notebooklm.google/) uses Gemini models to build your own personal AI research assistant.\n",
    "\n",
    "\n",
    "## For help\n",
    "\n",
    "**Common issues are covered in the [FAQ and troubleshooting guide](https://www.kaggle.com/code/markishere/day-0-troubleshooting-and-faqs).**\n",
    "\n",
    "### A note on the Gemini API and Vertex AI\n",
    "\n",
    "In the whitepapers, most of the example code uses the Enterprise [Vertex AI platform](https://cloud.google.com/vertex-ai). In contrast, this notebook, along with the others in this series, will use the [Gemini Developer API](https://ai.google.dev/gemini-api/) and [AI Studio](https://aistudio.google.com/).\n",
    "\n",
    "Both APIs provide access to the Gemini family of models, and the code to interact with the models is very similar. Vertex provides a world-class platform for enterprises, governments and advanced users that need powerful features like data governance, ML ops and deep Google Cloud integration.\n",
    "\n",
    "AI Studio is free to use and only requires a compatible Google account to log in and get started. It is deeply integrated with the Gemini API, which comes with a generous [free tier](https://ai.google.dev/pricing) that you can use to run the code in these exercises.\n",
    "\n",
    "If you are already set up with Google Cloud, you can check out the [Enterprise Gemini API](https://cloud.google.com/vertex-ai/generative-ai/docs/model-reference/inference) through Vertex AI, and run the samples directly from the supplied whitepapers."
   ]
  },
  {
   "attachments": {
    "d8299597-f771-4195-ac94-1d6f658ef2bd.png": {
     "image/png": "[encoded data removed]"
    },
    "ed25e346-2e15-4ab0-bc22-503eb1845e66.png": {
     "image/png": "[encoded data removed]"
    }
   },
   "cell_type": "markdown",
   "id": "c99f6bd1",
   "metadata": {
    "id": "f00ea7c99e44",
    "papermill": {
     "duration": 0.011581,
     "end_time": "2024-11-22T20:34:59.005403",
     "exception": false,
     "start_time": "2024-11-22T20:34:58.993822",
     "status": "completed"
    },
    "tags": []
   },
   "source": [
    "## Get started with Kaggle notebooks\n",
    "\n",
    "If this is your first time using a Kaggle notebook, welcome! You can read about how to use Kaggle notebooks [in the docs](https://www.kaggle.com/docs/notebooks).\n",
    "\n",
    "First, you will need to phone verify your account at kaggle.com/settings.\n",
    "\n",
    "![](https://storage.googleapis.com/kaggle-media/Images/5dgai_0.png)"
   ]
  },
  {
   "cell_type": "markdown",
   "id": "8b1e8536",
   "metadata": {
    "papermill": {
     "duration": 0.010998,
     "end_time": "2024-11-22T20:34:59.028203",
     "exception": false,
     "start_time": "2024-11-22T20:34:59.017205",
     "status": "completed"
    },
    "tags": []
   },
   "source": [
    "To run this notebook, as well as the others in this course, you will need to make a copy, or fork, the notebook. Look for the `Copy and Edit` button in the top-right, and **click it** to make an editable, private copy of the notebook. It should look like this one:\n",
    "\n",
    "![Copy and Edit button](https://storage.googleapis.com/kaggle-media/Images/5gdai_sc_1.png)\n",
    "\n",
    "Your copy will now have a ▶️ **Run** button next to each code cell that you can press to execute that cell. These notebooks are expected to be run in order from top-to-bottom, but you are encouraged to add new cells, run your own code and explore. If you get stuck, you can try the `Factory reset` option in the `Run` menu, or head back to the original notebook and make a fresh copy.\n",
    "\n",
    "![Run cell button](https://storage.googleapis.com/kaggle-media/Images/5gdai_sc_2.png)\n",
    "\n",
    "### Problems?\n",
    "\n",
    "If you have any problems, head over to the [Kaggle Discord](https://discord.com/invite/kaggle), find the [`#5dgai-q-and-a` channel](https://discord.com/channels/1101210829807956100/1303438695143178251) and ask for help."
   ]
  },
  {
   "cell_type": "markdown",
   "id": "a46bef52",
   "metadata": {
    "id": "ExkOXcPxtTb5",
    "papermill": {
     "duration": 0.01086,
     "end_time": "2024-11-22T20:34:59.050279",
     "exception": false,
     "start_time": "2024-11-22T20:34:59.039419",
     "status": "completed"
    },
    "tags": []
   },
   "source": [
    "## Get started with the Gemini API\n",
    "\n",
    "All of the exercises in this notebook will use the [Gemini API](https://ai.google.dev/gemini-api/) by way of the [Python SDK](https://pypi.org/project/google-generativeai/). Each of these prompts can be accessed directly in [Google AI Studio](https://aistudio.google.com/) too, so if you would rather use a web interface and skip the code for this activity, look for the <img src=\"https://ai.google.dev/site-assets/images/marketing/home/icon-ais.png\" style=\"height: 24px\" height=24/> AI Studio link on each prompt."
   ]
  },
  {
   "cell_type": "markdown",
   "id": "6bbdafa4",
   "metadata": {
    "papermill": {
     "duration": 0.011126,
     "end_time": "2024-11-22T20:34:59.073164",
     "exception": false,
     "start_time": "2024-11-22T20:34:59.062038",
     "status": "completed"
    },
    "tags": []
   },
   "source": [
    "Next, you will need to add your API key to your Kaggle Notebook as a Kaggle User Secret.\n",
    "\n",
    "![](https://storage.googleapis.com/kaggle-media/Images/5dgai_1.png)\n",
    "![](https://storage.googleapis.com/kaggle-media/Images/5dgai_2.png)\n",
    "![](https://storage.googleapis.com/kaggle-media/Images/5dgai_3.png)\n",
    "![](https://storage.googleapis.com/kaggle-media/Images/5dgai_4.png)"
   ]
  },
  {
   "cell_type": "markdown",
   "id": "a9d5ed1a",
   "metadata": {
    "id": "UAjUV3BsvFXQ",
    "papermill": {
     "duration": 0.011147,
     "end_time": "2024-11-22T20:34:59.095513",
     "exception": false,
     "start_time": "2024-11-22T20:34:59.084366",
     "status": "completed"
    },
    "tags": []
   },
   "source": [
    "### Install the SDK"
   ]
  },
  {
   "cell_type": "code",
   "execution_count": 2,
   "id": "98b7f8cc",
   "metadata": {
    "execution": {
     "iopub.execute_input": "2024-11-22T20:34:59.120058Z",
     "iopub.status.busy": "2024-11-22T20:34:59.119645Z",
     "iopub.status.idle": "2024-11-22T20:35:28.465992Z",
     "shell.execute_reply": "2024-11-22T20:35:28.464626Z"
    },
    "id": "NzwzJFU9LqkJ",
    "papermill": {
     "duration": 29.361883,
     "end_time": "2024-11-22T20:35:28.468531",
     "exception": false,
     "start_time": "2024-11-22T20:34:59.106648",
     "status": "completed"
    },
    "tags": []
   },
   "outputs": [
    {
     "name": "stdout",
     "output_type": "stream",
     "text": [
      "Note: you may need to restart the kernel to use updated packages.\n"
     ]
    }
   ],
   "source": [
    "%pip install -U -q \"google-generativeai>=0.8.3\""
   ]
  },
  {
   "cell_type": "markdown",
   "id": "0d19404c",
   "metadata": {
    "papermill": {
     "duration": 0.011045,
     "end_time": "2024-11-22T20:35:28.491094",
     "exception": false,
     "start_time": "2024-11-22T20:35:28.480049",
     "status": "completed"
    },
    "tags": []
   },
   "source": [
    "You do not need to restart the kernel."
   ]
  },
  {
   "cell_type": "code",
   "execution_count": 3,
   "id": "6bf14706",
   "metadata": {
    "execution": {
     "iopub.execute_input": "2024-11-22T20:35:28.515612Z",
     "iopub.status.busy": "2024-11-22T20:35:28.515188Z",
     "iopub.status.idle": "2024-11-22T20:35:29.627776Z",
     "shell.execute_reply": "2024-11-22T20:35:29.626723Z"
    },
    "id": "5DwxYIRavMST",
    "papermill": {
     "duration": 1.128026,
     "end_time": "2024-11-22T20:35:29.630400",
     "exception": false,
     "start_time": "2024-11-22T20:35:28.502374",
     "status": "completed"
    },
    "tags": []
   },
   "outputs": [],
   "source": [
    "import google.generativeai as genai\n",
    "from IPython.display import HTML, Markdown, display"
   ]
  },
  {
   "cell_type": "markdown",
   "id": "4326b09e",
   "metadata": {
    "id": "DNEt2BCOvOJ1",
    "papermill": {
     "duration": 0.01098,
     "end_time": "2024-11-22T20:35:29.653051",
     "exception": false,
     "start_time": "2024-11-22T20:35:29.642071",
     "status": "completed"
    },
    "tags": []
   },
   "source": [
    "### Set up your API key\n",
    "\n",
    "To run the following cell, your API key must be stored it in a [Kaggle secret](https://www.kaggle.com/discussions/product-feedback/114053) named `GOOGLE_API_KEY`.\n",
    "\n",
    "If you don't already have an API key, you can grab one from [AI Studio](https://aistudio.google.com/app/apikey). You can find [detailed instructions in the docs](https://ai.google.dev/gemini-api/docs/api-key).\n",
    "\n",
    "To make the key available through Kaggle secrets, choose `Secrets` from the `Add-ons` menu and follow the instructions to add your key or enable it for this notebook."
   ]
  },
  {
   "cell_type": "code",
   "execution_count": 4,
   "id": "f4a95311",
   "metadata": {
    "execution": {
     "iopub.execute_input": "2024-11-22T20:35:29.677615Z",
     "iopub.status.busy": "2024-11-22T20:35:29.676831Z",
     "iopub.status.idle": "2024-11-22T20:35:29.817266Z",
     "shell.execute_reply": "2024-11-22T20:35:29.816082Z"
    },
    "id": "SHl0bkPCvayd",
    "papermill": {
     "duration": 0.155352,
     "end_time": "2024-11-22T20:35:29.819702",
     "exception": false,
     "start_time": "2024-11-22T20:35:29.664350",
     "status": "completed"
    },
    "tags": []
   },
   "outputs": [],
   "source": [
    "from kaggle_secrets import UserSecretsClient\n",
    "\n",
    "GOOGLE_API_KEY = UserSecretsClient().get_secret(\"GOOGLE_API_KEY\")\n",
    "genai.configure(api_key=GOOGLE_API_KEY)"
   ]
  },
  {
   "attachments": {
    "d2be9aab-2527-48af-b6cf-1f06cdd7c3a7.png": {
     "image/png": "[encoded data removed]"
    }
   },
   "cell_type": "markdown",
   "id": "95726900",
   "metadata": {
    "id": "4e720472fd86",
    "papermill": {
     "duration": 0.010943,
     "end_time": "2024-11-22T20:35:29.841979",
     "exception": false,
     "start_time": "2024-11-22T20:35:29.831036",
     "status": "completed"
    },
    "tags": []
   },
   "source": [
    "If you received an error response along the lines of `No user secrets exist for kernel id ...`, then you need to add your API key via `Add-ons`, `Secrets` **and** enable it.\n",
    "\n",
    "![Screenshot of the checkbox to enable GOOGLE_API_KEY secret](https://storage.googleapis.com/kaggle-media/Images/5gdai_sc_3.png)"
   ]
  },
  {
   "cell_type": "markdown",
   "id": "c6f719ad",
   "metadata": {
    "id": "H_YXCYIKvyZJ",
    "papermill": {
     "duration": 0.010868,
     "end_time": "2024-11-22T20:35:29.864104",
     "exception": false,
     "start_time": "2024-11-22T20:35:29.853236",
     "status": "completed"
    },
    "tags": []
   },
   "source": [
    "### Run your first prompt\n",
    "\n",
    "In this step, you will test that your API key is set up correctly by making a request. The `gemini-1.5-flash` model has been selected here."
   ]
  },
  {
   "cell_type": "code",
   "execution_count": 5,
   "id": "3f10d95a",
   "metadata": {
    "execution": {
     "iopub.execute_input": "2024-11-22T20:35:29.888254Z",
     "iopub.status.busy": "2024-11-22T20:35:29.887857Z",
     "iopub.status.idle": "2024-11-22T20:35:32.222440Z",
     "shell.execute_reply": "2024-11-22T20:35:32.221208Z"
    },
    "id": "BV1o0PmcvyJF",
    "papermill": {
     "duration": 2.349607,
     "end_time": "2024-11-22T20:35:32.224874",
     "exception": false,
     "start_time": "2024-11-22T20:35:29.875267",
     "status": "completed"
    },
    "tags": []
   },
   "outputs": [
    {
     "name": "stdout",
     "output_type": "stream",
     "text": [
      "Imagine you have a really smart puppy.  You teach it tricks, like \"sit\" and \"fetch\".  At first, it's clumsy and makes mistakes.  But the more you teach it and show it what to do, the better it gets!\n",
      "\n",
      "Artificial Intelligence, or AI, is like that smart puppy, but instead of learning tricks, it learns from information.  We give it lots and lots of information – like pictures of cats and dogs, or stories, or even how to play games.  The AI looks at all that information and learns to recognize patterns and make decisions on its own, just like your puppy learns to understand your commands.\n",
      "\n",
      "Sometimes the AI is good at recognizing things in pictures, like identifying a cat in a photo.  Other times it can write stories, translate languages, or even play games better than you!\n",
      "\n",
      "It's not actually *thinking* like you or me, but it's learning to do things that usually only people can do.  It's still pretty new, so it's still learning and making mistakes, just like that puppy!\n",
      "\n"
     ]
    }
   ],
   "source": [
    "flash = genai.GenerativeModel('gemini-1.5-flash')\n",
    "response = flash.generate_content(\"Explain AI to me like I'm a kid.\")\n",
    "print(response.text)"
   ]
  },
  {
   "cell_type": "markdown",
   "id": "a4810a58",
   "metadata": {
    "id": "f60ed9d8ae41",
    "papermill": {
     "duration": 0.01112,
     "end_time": "2024-11-22T20:35:32.247389",
     "exception": false,
     "start_time": "2024-11-22T20:35:32.236269",
     "status": "completed"
    },
    "tags": []
   },
   "source": [
    "The response often comes back in markdown format, which you can render directly in this notebook."
   ]
  },
  {
   "cell_type": "code",
   "execution_count": 6,
   "id": "878c1551",
   "metadata": {
    "execution": {
     "iopub.execute_input": "2024-11-22T20:35:32.272617Z",
     "iopub.status.busy": "2024-11-22T20:35:32.271414Z",
     "iopub.status.idle": "2024-11-22T20:35:32.280520Z",
     "shell.execute_reply": "2024-11-22T20:35:32.279196Z"
    },
    "id": "c933e5e460a5",
    "papermill": {
     "duration": 0.024091,
     "end_time": "2024-11-22T20:35:32.282795",
     "exception": false,
     "start_time": "2024-11-22T20:35:32.258704",
     "status": "completed"
    },
    "tags": []
   },
   "outputs": [
    {
     "data": {
      "text/markdown": [
       "Imagine you have a really smart puppy.  You teach it tricks, like \"sit\" and \"fetch\".  At first, it's clumsy and makes mistakes.  But the more you teach it and show it what to do, the better it gets!\n",
       "\n",
       "Artificial Intelligence, or AI, is like that smart puppy, but instead of learning tricks, it learns from information.  We give it lots and lots of information – like pictures of cats and dogs, or stories, or even how to play games.  The AI looks at all that information and learns to recognize patterns and make decisions on its own, just like your puppy learns to understand your commands.\n",
       "\n",
       "Sometimes the AI is good at recognizing things in pictures, like identifying a cat in a photo.  Other times it can write stories, translate languages, or even play games better than you!\n",
       "\n",
       "It's not actually *thinking* like you or me, but it's learning to do things that usually only people can do.  It's still pretty new, so it's still learning and making mistakes, just like that puppy!\n"
      ],
      "text/plain": [
       "<IPython.core.display.Markdown object>"
      ]
     },
     "execution_count": 6,
     "metadata": {},
     "output_type": "execute_result"
    }
   ],
   "source": [
    "Markdown(response.text)"
   ]
  },
  {
   "cell_type": "markdown",
   "id": "5449658c",
   "metadata": {
    "id": "byx0pT9ZMW2Q",
    "papermill": {
     "duration": 0.011613,
     "end_time": "2024-11-22T20:35:32.306316",
     "exception": false,
     "start_time": "2024-11-22T20:35:32.294703",
     "status": "completed"
    },
    "tags": []
   },
   "source": [
    "### Start a chat\n",
    "\n",
    "The previous example uses a single-turn, text-in/text-out structure, but you can also set up a multi-turn chat structure too."
   ]
  },
  {
   "cell_type": "code",
   "execution_count": 7,
   "id": "93b07426",
   "metadata": {
    "execution": {
     "iopub.execute_input": "2024-11-22T20:35:32.333727Z",
     "iopub.status.busy": "2024-11-22T20:35:32.332619Z",
     "iopub.status.idle": "2024-11-22T20:35:32.803525Z",
     "shell.execute_reply": "2024-11-22T20:35:32.801782Z"
    },
    "id": "lV_S5ZL5MidD",
    "papermill": {
     "duration": 0.487411,
     "end_time": "2024-11-22T20:35:32.806207",
     "exception": false,
     "start_time": "2024-11-22T20:35:32.318796",
     "status": "completed"
    },
    "tags": []
   },
   "outputs": [
    {
     "name": "stdout",
     "output_type": "stream",
     "text": [
      "It's nice to meet you, Zlork!  How can I help you today?\n",
      "\n"
     ]
    }
   ],
   "source": [
    "chat = flash.start_chat(history=[])\n",
    "response = chat.send_message('Hello! My name is Zlork.')\n",
    "print(response.text)"
   ]
  },
  {
   "cell_type": "code",
   "execution_count": 8,
   "id": "f2da0d30",
   "metadata": {
    "execution": {
     "iopub.execute_input": "2024-11-22T20:35:32.841006Z",
     "iopub.status.busy": "2024-11-22T20:35:32.840248Z",
     "iopub.status.idle": "2024-11-22T20:35:33.889949Z",
     "shell.execute_reply": "2024-11-22T20:35:33.888764Z"
    },
    "id": "7b0372c3c64a",
    "papermill": {
     "duration": 1.071656,
     "end_time": "2024-11-22T20:35:33.892530",
     "exception": false,
     "start_time": "2024-11-22T20:35:32.820874",
     "status": "completed"
    },
    "tags": []
   },
   "outputs": [
    {
     "name": "stdout",
     "output_type": "stream",
     "text": [
      "Many dinosaurs likely had feathers!  While we often picture them as scaly reptiles,  evidence shows that many theropod dinosaurs, the group that includes *Tyrannosaurus rex* and *Velociraptor*, had feathers, ranging from simple filaments to complex, bird-like plumage.  This discovery significantly changed our understanding of dinosaur evolution and their relationship to birds.\n",
      "\n"
     ]
    }
   ],
   "source": [
    "response = chat.send_message('Can you tell something interesting about dinosaurs?')\n",
    "print(response.text)"
   ]
  },
  {
   "cell_type": "code",
   "execution_count": 9,
   "id": "503315a7",
   "metadata": {
    "execution": {
     "iopub.execute_input": "2024-11-22T20:35:33.919601Z",
     "iopub.status.busy": "2024-11-22T20:35:33.918589Z",
     "iopub.status.idle": "2024-11-22T20:35:34.348602Z",
     "shell.execute_reply": "2024-11-22T20:35:34.347108Z"
    },
    "id": "d3f9591392a7",
    "papermill": {
     "duration": 0.446051,
     "end_time": "2024-11-22T20:35:34.350935",
     "exception": false,
     "start_time": "2024-11-22T20:35:33.904884",
     "status": "completed"
    },
    "tags": []
   },
   "outputs": [
    {
     "name": "stdout",
     "output_type": "stream",
     "text": [
      "Yes, your name is Zlork.\n",
      "\n"
     ]
    }
   ],
   "source": [
    "# While you have the `chat` object around, the conversation state\n",
    "# persists. Confirm that by asking if it knows my name.\n",
    "response = chat.send_message('Do you remember what my name is?')\n",
    "print(response.text)"
   ]
  },
  {
   "cell_type": "markdown",
   "id": "94bd3914",
   "metadata": {
    "id": "2KAjpr1200sW",
    "papermill": {
     "duration": 0.011496,
     "end_time": "2024-11-22T20:35:34.374219",
     "exception": false,
     "start_time": "2024-11-22T20:35:34.362723",
     "status": "completed"
    },
    "tags": []
   },
   "source": [
    "### Choose a model\n",
    "\n",
    "The Gemini API provides access to a number of models from the Gemini model family. Read about the available models and their capabilities on the [model overview page](https://ai.google.dev/gemini-api/docs/models/gemini).\n",
    "\n",
    "In this step you'll use the API to list all of the available models."
   ]
  },
  {
   "cell_type": "code",
   "execution_count": 10,
   "id": "59c0af69",
   "metadata": {
    "execution": {
     "iopub.execute_input": "2024-11-22T20:35:34.399794Z",
     "iopub.status.busy": "2024-11-22T20:35:34.399402Z",
     "iopub.status.idle": "2024-11-22T20:35:34.462482Z",
     "shell.execute_reply": "2024-11-22T20:35:34.461226Z"
    },
    "id": "uUUZa2uq2jDm",
    "papermill": {
     "duration": 0.078872,
     "end_time": "2024-11-22T20:35:34.464926",
     "exception": false,
     "start_time": "2024-11-22T20:35:34.386054",
     "status": "completed"
    },
    "tags": []
   },
   "outputs": [
    {
     "name": "stdout",
     "output_type": "stream",
     "text": [
      "models/chat-bison-001\n",
      "models/text-bison-001\n",
      "models/embedding-gecko-001\n",
      "models/gemini-1.0-pro-latest\n",
      "models/gemini-1.0-pro\n",
      "models/gemini-pro\n",
      "models/gemini-1.0-pro-001\n",
      "models/gemini-1.0-pro-vision-latest\n",
      "models/gemini-pro-vision\n",
      "models/gemini-1.5-pro-latest\n",
      "models/gemini-1.5-pro-001\n",
      "models/gemini-1.5-pro-002\n",
      "models/gemini-1.5-pro\n",
      "models/gemini-1.5-pro-exp-0801\n",
      "models/gemini-1.5-pro-exp-0827\n",
      "models/gemini-1.5-flash-latest\n",
      "models/gemini-1.5-flash-001\n",
      "models/gemini-1.5-flash-001-tuning\n",
      "models/gemini-1.5-flash\n",
      "models/gemini-1.5-flash-exp-0827\n",
      "models/gemini-1.5-flash-002\n",
      "models/gemini-1.5-flash-8b\n",
      "models/gemini-1.5-flash-8b-001\n",
      "models/gemini-1.5-flash-8b-latest\n",
      "models/gemini-1.5-flash-8b-exp-0827\n",
      "models/gemini-1.5-flash-8b-exp-0924\n",
      "models/learnlm-1.5-pro-experimental\n",
      "models/gemini-exp-1114\n",
      "models/gemini-exp-1121\n",
      "models/embedding-001\n",
      "models/text-embedding-004\n",
      "models/aqa\n"
     ]
    }
   ],
   "source": [
    "for model in genai.list_models():\n",
    "  print(model.name)"
   ]
  },
  {
   "cell_type": "markdown",
   "id": "c0ededa6",
   "metadata": {
    "id": "rN49kSI54R1v",
    "papermill": {
     "duration": 0.011364,
     "end_time": "2024-11-22T20:35:34.488204",
     "exception": false,
     "start_time": "2024-11-22T20:35:34.476840",
     "status": "completed"
    },
    "tags": []
   },
   "source": [
    "The [`models.list`](https://ai.google.dev/api/models#method:-models.list) response also returns additional information about the model's capabilities, like the token limits and supported parameters."
   ]
  },
  {
   "cell_type": "code",
   "execution_count": 11,
   "id": "5d1870f3",
   "metadata": {
    "execution": {
     "iopub.execute_input": "2024-11-22T20:35:34.513846Z",
     "iopub.status.busy": "2024-11-22T20:35:34.513427Z",
     "iopub.status.idle": "2024-11-22T20:35:34.558552Z",
     "shell.execute_reply": "2024-11-22T20:35:34.557251Z"
    },
    "id": "k7JJ1K6j4Rl8",
    "papermill": {
     "duration": 0.060787,
     "end_time": "2024-11-22T20:35:34.560905",
     "exception": false,
     "start_time": "2024-11-22T20:35:34.500118",
     "status": "completed"
    },
    "tags": []
   },
   "outputs": [
    {
     "name": "stdout",
     "output_type": "stream",
     "text": [
      "Model(name='models/gemini-1.5-flash',\n",
      "      base_model_id='',\n",
      "      version='001',\n",
      "      display_name='Gemini 1.5 Flash',\n",
      "      description=('Alias that points to the most recent stable version of Gemini 1.5 Flash, our '\n",
      "                   'fast and versatile multimodal model for scaling across diverse tasks.'),\n",
      "      input_token_limit=1000000,\n",
      "      output_token_limit=8192,\n",
      "      supported_generation_methods=['generateContent', 'countTokens'],\n",
      "      temperature=1.0,\n",
      "      max_temperature=2.0,\n",
      "      top_p=0.95,\n",
      "      top_k=40)\n"
     ]
    }
   ],
   "source": [
    "for model in genai.list_models():\n",
    "  if model.name == 'models/gemini-1.5-flash':\n",
    "    print(model)\n",
    "    break"
   ]
  },
  {
   "cell_type": "markdown",
   "id": "618df405",
   "metadata": {
    "id": "5rU_UBlZdooM",
    "papermill": {
     "duration": 0.011755,
     "end_time": "2024-11-22T20:35:34.584789",
     "exception": false,
     "start_time": "2024-11-22T20:35:34.573034",
     "status": "completed"
    },
    "tags": []
   },
   "source": [
    "## Explore generation parameters\n",
    "\n"
   ]
  },
  {
   "cell_type": "markdown",
   "id": "2187c8f0",
   "metadata": {
    "id": "G7NfEizeipbW",
    "papermill": {
     "duration": 0.011715,
     "end_time": "2024-11-22T20:35:34.608633",
     "exception": false,
     "start_time": "2024-11-22T20:35:34.596918",
     "status": "completed"
    },
    "tags": []
   },
   "source": [
    "### Output length\n",
    "\n",
    "When generating text with an LLM, the output length affects cost and performance. Generating more tokens increases computation, leading to higher energy consumption, latency, and cost.\n",
    "\n",
    "To stop the model from generating tokens past a limit, you can specify the `max_output_tokens` parameter when using the Gemini API. Specifying this parameter does not influence the generation of the output tokens, so the output will not become more stylistically or textually succinct, but it will stop generating tokens once the specified length is reached. Prompt engineering may be required to generate a more complete output for your given limit."
   ]
  },
  {
   "cell_type": "code",
   "execution_count": 12,
   "id": "cc253ff6",
   "metadata": {
    "execution": {
     "iopub.execute_input": "2024-11-22T20:35:34.634081Z",
     "iopub.status.busy": "2024-11-22T20:35:34.633612Z",
     "iopub.status.idle": "2024-11-22T20:35:36.485912Z",
     "shell.execute_reply": "2024-11-22T20:35:36.484749Z"
    },
    "id": "qVf23JsIi9ma",
    "papermill": {
     "duration": 1.868097,
     "end_time": "2024-11-22T20:35:36.488472",
     "exception": false,
     "start_time": "2024-11-22T20:35:34.620375",
     "status": "completed"
    },
    "tags": []
   },
   "outputs": [
    {
     "name": "stdout",
     "output_type": "stream",
     "text": [
      "## The Enduring Significance of Olives in Modern Society\n",
      "\n",
      "The olive, *Olea europaea*, a seemingly unassuming fruit, holds a position of profound importance in modern society, extending far beyond its culinary applications.  Its significance is woven into the fabric of history, culture, economics, and even environmental sustainability, reflecting a deep and enduring relationship between humanity and this resilient tree.  While often viewed simply as a condiment, the olive’s impact resonates across diverse sectors, demonstrating its continued relevance in the 21st century.\n",
      "\n",
      "The most immediately apparent role of the olive is its contribution to the global food system. Olive oil, extracted from the fruit's pulp, is a cornerstone of the Mediterranean diet, lauded for its health benefits and its central role in countless cuisines.  Rich in monounsaturated fats, antioxidants, and vitamins, olive oil is associated with reduced risk of cardiovascular disease, certain cancers, and other chronic illnesses. This established link between dietary intake and health has driven\n"
     ]
    }
   ],
   "source": [
    "short_model = genai.GenerativeModel(\n",
    "    'gemini-1.5-flash',\n",
    "    generation_config=genai.GenerationConfig(max_output_tokens=200))\n",
    "\n",
    "response = short_model.generate_content('Write a 1000 word essay on the importance of olives in modern society.')\n",
    "print(response.text)"
   ]
  },
  {
   "cell_type": "code",
   "execution_count": 13,
   "id": "32273048",
   "metadata": {
    "execution": {
     "iopub.execute_input": "2024-11-22T20:35:36.515637Z",
     "iopub.status.busy": "2024-11-22T20:35:36.514546Z",
     "iopub.status.idle": "2024-11-22T20:35:37.626355Z",
     "shell.execute_reply": "2024-11-22T20:35:37.625252Z"
    },
    "id": "W-3kR2F5kdMR",
    "papermill": {
     "duration": 1.128253,
     "end_time": "2024-11-22T20:35:37.628911",
     "exception": false,
     "start_time": "2024-11-22T20:35:36.500658",
     "status": "completed"
    },
    "tags": []
   },
   "outputs": [
    {
     "name": "stdout",
     "output_type": "stream",
     "text": [
      "A fuzzy hum, a golden flight,\n",
      "The bee, a worker, small but bright.\n",
      "On pollen's dust, their lives depend,\n",
      "A silent service, without end.\n",
      "\n",
      "Our fruits, our nuts, our fields of grain,\n",
      "All owe a debt to sun and rain,\n",
      "But most of all, to buzzing wings,\n",
      "The sweet reward the pollen brings.\n",
      "\n",
      "For if the bee should cease to roam,\n",
      "Our tables bare, a future gloam,\n",
      "So cherish them, protect their ways,\n",
      "To save the harvest of our days.\n",
      "\n"
     ]
    }
   ],
   "source": [
    "response = short_model.generate_content('Write a short poem on the importance of bees in modern society.')\n",
    "print(response.text)"
   ]
  },
  {
   "cell_type": "markdown",
   "id": "70802ba6",
   "metadata": {
    "id": "3ZhDSLB6lqqB",
    "papermill": {
     "duration": 0.012066,
     "end_time": "2024-11-22T20:35:37.653443",
     "exception": false,
     "start_time": "2024-11-22T20:35:37.641377",
     "status": "completed"
    },
    "tags": []
   },
   "source": [
    "Explore with your own prompts. Try a prompt with a restrictive output limit and then adjust the prompt to work within that limit."
   ]
  },
  {
   "cell_type": "markdown",
   "id": "dac3557f",
   "metadata": {
    "id": "alx-WaAvir_9",
    "papermill": {
     "duration": 0.011932,
     "end_time": "2024-11-22T20:35:37.677933",
     "exception": false,
     "start_time": "2024-11-22T20:35:37.666001",
     "status": "completed"
    },
    "tags": []
   },
   "source": [
    "### Temperature\n",
    "\n",
    "Temperature controls the degree of randomness in token selection. Higher temperatures result in a higher number of candidate tokens from which the next output token is selected, and can produce more diverse results, while lower temperatures have the opposite effect, such that a temperature of 0 results in greedy decoding, selecting the most probable token at each step.\n",
    "\n",
    "Temperature doesn't provide any guarantees of randomness, but it can be used to \"nudge\" the output somewhat.\n",
    "\n",
    "**Note that if you see a 429 Resource Exhausted error here, you may be able to edit the words in the prompt slightly to progress.**"
   ]
  },
  {
   "cell_type": "code",
   "execution_count": 14,
   "id": "4b2ac318",
   "metadata": {
    "execution": {
     "iopub.execute_input": "2024-11-22T20:35:37.705254Z",
     "iopub.status.busy": "2024-11-22T20:35:37.704095Z",
     "iopub.status.idle": "2024-11-22T20:35:39.448810Z",
     "shell.execute_reply": "2024-11-22T20:35:39.447521Z"
    },
    "id": "SHraGMzqnZqt",
    "papermill": {
     "duration": 1.760899,
     "end_time": "2024-11-22T20:35:39.451229",
     "exception": false,
     "start_time": "2024-11-22T20:35:37.690330",
     "status": "completed"
    },
    "tags": []
   },
   "outputs": [
    {
     "name": "stdout",
     "output_type": "stream",
     "text": [
      "Aquamarine\n",
      " -------------------------\n",
      "Maroon\n",
      " -------------------------\n",
      "Aquamarine\n",
      " -------------------------\n",
      "Maroon\n",
      " -------------------------\n",
      "Maroon\n",
      " -------------------------\n"
     ]
    }
   ],
   "source": [
    "from google.api_core import retry\n",
    "\n",
    "high_temp_model = genai.GenerativeModel(\n",
    "    'gemini-1.5-flash',\n",
    "    generation_config=genai.GenerationConfig(temperature=2.0))\n",
    "\n",
    "\n",
    "# When running lots of queries, it's a good practice to use a retry policy so your code\n",
    "# automatically retries when hitting Resource Exhausted (quota limit) errors.\n",
    "retry_policy = {\n",
    "    \"retry\": retry.Retry(predicate=retry.if_transient_error, initial=10, multiplier=1.5, timeout=300)\n",
    "}\n",
    "\n",
    "for _ in range(5):\n",
    "  response = high_temp_model.generate_content('Pick a random colour... (respond in a single word)',\n",
    "                                              request_options=retry_policy)\n",
    "  if response.parts:\n",
    "    print(response.text, '-' * 25)"
   ]
  },
  {
   "cell_type": "markdown",
   "id": "89ebd1a5",
   "metadata": {
    "id": "z3J4pCTuof7e",
    "papermill": {
     "duration": 0.012485,
     "end_time": "2024-11-22T20:35:39.476150",
     "exception": false,
     "start_time": "2024-11-22T20:35:39.463665",
     "status": "completed"
    },
    "tags": []
   },
   "source": [
    "Now try the same prompt with temperature set to zero. Note that the output is not completely deterministic, as other parameters affect token selection, but the results will tend to be more stable."
   ]
  },
  {
   "cell_type": "code",
   "execution_count": 15,
   "id": "d17598c2",
   "metadata": {
    "execution": {
     "iopub.execute_input": "2024-11-22T20:35:39.502839Z",
     "iopub.status.busy": "2024-11-22T20:35:39.502395Z",
     "iopub.status.idle": "2024-11-22T20:35:41.191428Z",
     "shell.execute_reply": "2024-11-22T20:35:41.190303Z"
    },
    "id": "clymkWv-PfUZ",
    "papermill": {
     "duration": 1.705888,
     "end_time": "2024-11-22T20:35:41.194401",
     "exception": false,
     "start_time": "2024-11-22T20:35:39.488513",
     "status": "completed"
    },
    "tags": []
   },
   "outputs": [
    {
     "name": "stdout",
     "output_type": "stream",
     "text": [
      "Maroon\n",
      " -------------------------\n",
      "Maroon\n",
      " -------------------------\n",
      "Maroon\n",
      " -------------------------\n",
      "Maroon\n",
      " -------------------------\n",
      "Maroon\n",
      " -------------------------\n"
     ]
    }
   ],
   "source": [
    "low_temp_model = genai.GenerativeModel(\n",
    "    'gemini-1.5-flash',\n",
    "    generation_config=genai.GenerationConfig(temperature=0.0))\n",
    "\n",
    "for _ in range(5):\n",
    "  response = low_temp_model.generate_content('Pick a random colour... (respond in a single word)',\n",
    "                                             request_options=retry_policy)\n",
    "  if response.parts:\n",
    "    print(response.text, '-' * 25)"
   ]
  },
  {
   "cell_type": "markdown",
   "id": "b8d0919e",
   "metadata": {
    "id": "St5nt3vzitsZ",
    "papermill": {
     "duration": 0.012365,
     "end_time": "2024-11-22T20:35:41.219544",
     "exception": false,
     "start_time": "2024-11-22T20:35:41.207179",
     "status": "completed"
    },
    "tags": []
   },
   "source": [
    "### Top-K and top-P\n",
    "\n",
    "Like temperature, top-K and top-P parameters are also used to control the diversity of the model's output.\n",
    "\n",
    "Top-K is a positive integer that defines the number of most probable tokens from which to select the output token. A top-K of 1 selects a single token, performing greedy decoding.\n",
    "\n",
    "Top-P defines the probability threshold that, once cumulatively exceeded, tokens stop being selected as candidates. A top-P of 0 is typically equivalent to greedy decoding, and a top-P of 1 typically selects every token in the model's vocabulary.\n",
    "\n",
    "When both are supplied, the Gemini API will filter top-K tokens first, then top-P and then finally sample from the candidate tokens using the supplied temperature.\n",
    "\n",
    "Run this example a number of times, change the settings and observe the change in output."
   ]
  },
  {
   "cell_type": "code",
   "execution_count": 16,
   "id": "f1e9dd3b",
   "metadata": {
    "execution": {
     "iopub.execute_input": "2024-11-22T20:35:41.246392Z",
     "iopub.status.busy": "2024-11-22T20:35:41.245988Z",
     "iopub.status.idle": "2024-11-22T20:35:44.146298Z",
     "shell.execute_reply": "2024-11-22T20:35:44.145016Z"
    },
    "id": "lPlzpEavUV8F",
    "papermill": {
     "duration": 2.916577,
     "end_time": "2024-11-22T20:35:44.148748",
     "exception": false,
     "start_time": "2024-11-22T20:35:41.232171",
     "status": "completed"
    },
    "tags": []
   },
   "outputs": [
    {
     "name": "stdout",
     "output_type": "stream",
     "text": [
      "Barnaby was not a typical house cat. He wasn't interested in napping in sunbeams or batting at dust motes. Barnaby craved adventure. The world outside his window, with its rustling leaves and chirping birds, called to him. One sunny afternoon, while his human, Emily, was engrossed in a book, Barnaby saw his chance. He slipped through the cat flap and into the world.\n",
      "\n",
      "The garden was a jungle, teeming with life. Barnaby stalked a fat, unsuspecting robin, then, in a burst of feline energy, pounced on a sun-dappled butterfly. But the world beyond the garden was even more exciting. He squeezed through a gap in the fence and found himself in a bustling street.\n",
      "\n",
      "The world was a cacophony of smells and sights. Barnaby, fearless, navigated the maze of legs and wheels, his whiskers twitching with curiosity. He sniffed a baker's cart, relishing the scent of fresh bread, and chased a discarded feather, its plume a tantalizing target. \n",
      "\n",
      "Then, he saw a group of children playing with a ball of yarn. It was the most magnificent ball of yarn Barnaby had ever seen! He crept closer, his eyes narrowed with intent. The children, oblivious to his presence, tossed the yarn, their laughter echoing in the air.\n",
      "\n",
      "As they chased the yarn, the ball rolled towards a busy road. Barnaby, without hesitation, sprang into action. He darted into the street, dodging cars and barking dogs, and retrieved the yarn just as a speeding vehicle approached. The children, eyes wide with wonder and gratitude, patted him on the head.\n",
      "\n",
      "Barnaby, basking in their praise, felt a surge of pride. He'd saved the day!  He was a hero!  The children, thrilled by his bravery, showered him with treats and affection.\n",
      "\n",
      "As the sun began to set, painting the sky in hues of orange and pink, Barnaby knew it was time to go home. He padded back through the garden, his heart full of the day's adventures. As he slipped through the cat flap, Emily, worried sick, rushed to him, showering him with kisses. \n",
      "\n",
      "Barnaby, nestled comfortably in his bed, purred with contentment. He knew he was a house cat, but in his heart, he was also an adventurer, a hero, a cat who had tasted the world and lived to tell the tale. He had his own story to tell, one filled with the tang of adventure and the warmth of gratitude. And tomorrow, perhaps, there would be another story to be written. \n",
      "\n"
     ]
    }
   ],
   "source": [
    "model = genai.GenerativeModel(\n",
    "    'gemini-1.5-flash-001',\n",
    "    generation_config=genai.GenerationConfig(\n",
    "        # These are the default values for gemini-1.5-flash-001.\n",
    "        temperature=1.0,\n",
    "        top_k=64,\n",
    "        top_p=0.95,\n",
    "    ))\n",
    "\n",
    "story_prompt = \"You are a creative writer. Write a short story about a cat who goes on an adventure.\"\n",
    "response = model.generate_content(story_prompt, request_options=retry_policy)\n",
    "print(response.text)"
   ]
  },
  {
   "cell_type": "markdown",
   "id": "3070dd78",
   "metadata": {
    "id": "rMrYs1koY6DX",
    "papermill": {
     "duration": 0.013123,
     "end_time": "2024-11-22T20:35:44.176627",
     "exception": false,
     "start_time": "2024-11-22T20:35:44.163504",
     "status": "completed"
    },
    "tags": []
   },
   "source": [
    "## Prompting\n",
    "\n",
    "This section contains some prompts from the chapter for you to try out directly in the API. Try changing the text here to see how each prompt performs with different instructions, more examples, or any other changes you can think of."
   ]
  },
  {
   "cell_type": "markdown",
   "id": "f4676ea5",
   "metadata": {
    "id": "hhj_tQidZJP7",
    "papermill": {
     "duration": 0.012647,
     "end_time": "2024-11-22T20:35:44.203470",
     "exception": false,
     "start_time": "2024-11-22T20:35:44.190823",
     "status": "completed"
    },
    "tags": []
   },
   "source": [
    "### Zero-shot\n",
    "\n",
    "Zero-shot prompts are prompts that describe the request for the model directly.\n",
    "\n",
    "<table align=left>\n",
    "  <td>\n",
    "    <a target=\"_blank\" href=\"https://aistudio.google.com/prompts/1gzKKgDHwkAvexG5Up0LMtl1-6jKMKe4g\"><img src=\"https://ai.google.dev/site-assets/images/marketing/home/icon-ais.png\" style=\"height: 24px\" height=24/> Open in AI Studio</a>\n",
    "  </td>\n",
    "</table>"
   ]
  },
  {
   "cell_type": "code",
   "execution_count": 17,
   "id": "2b0c6bd9",
   "metadata": {
    "execution": {
     "iopub.execute_input": "2024-11-22T20:35:44.231128Z",
     "iopub.status.busy": "2024-11-22T20:35:44.230717Z",
     "iopub.status.idle": "2024-11-22T20:35:44.475449Z",
     "shell.execute_reply": "2024-11-22T20:35:44.474032Z"
    },
    "id": "1_t-cwnDZzbH",
    "papermill": {
     "duration": 0.261431,
     "end_time": "2024-11-22T20:35:44.477705",
     "exception": false,
     "start_time": "2024-11-22T20:35:44.216274",
     "status": "completed"
    },
    "tags": []
   },
   "outputs": [
    {
     "name": "stdout",
     "output_type": "stream",
     "text": [
      "Sentiment: **POSITIVE**\n"
     ]
    }
   ],
   "source": [
    "model = genai.GenerativeModel(\n",
    "    'gemini-1.5-flash-001',\n",
    "    generation_config=genai.GenerationConfig(\n",
    "        temperature=0.1,\n",
    "        top_p=1,\n",
    "        max_output_tokens=5,\n",
    "    ))\n",
    "\n",
    "zero_shot_prompt = \"\"\"Classify movie reviews as POSITIVE, NEUTRAL or NEGATIVE.\n",
    "Review: \"Her\" is a disturbing study revealing the direction\n",
    "humanity is headed if AI is allowed to keep evolving,\n",
    "unchecked. I wish there were more movies like this masterpiece.\n",
    "Sentiment: \"\"\"\n",
    "\n",
    "response = model.generate_content(zero_shot_prompt, request_options=retry_policy)\n",
    "print(response.text)"
   ]
  },
  {
   "cell_type": "markdown",
   "id": "95df159c",
   "metadata": {
    "id": "3b5568bdeb11",
    "papermill": {
     "duration": 0.01343,
     "end_time": "2024-11-22T20:35:44.504310",
     "exception": false,
     "start_time": "2024-11-22T20:35:44.490880",
     "status": "completed"
    },
    "tags": []
   },
   "source": [
    "#### Enum mode\n",
    "\n",
    "The models are trained to generate text, and can sometimes produce more text than you may wish for. In the preceding example, the model will output the label, sometimes it can include a preceding \"Sentiment\" label, and without an output token limit, it may also add explanatory text afterwards.\n",
    "\n",
    "The Gemini API has an [Enum mode](https://github.com/google-gemini/cookbook/blob/main/quickstarts/Enum.ipynb) feature that allows you to constrain the output to a fixed set of values."
   ]
  },
  {
   "cell_type": "code",
   "execution_count": 18,
   "id": "36bf2267",
   "metadata": {
    "execution": {
     "iopub.execute_input": "2024-11-22T20:35:44.531283Z",
     "iopub.status.busy": "2024-11-22T20:35:44.530908Z",
     "iopub.status.idle": "2024-11-22T20:36:50.172955Z",
     "shell.execute_reply": "2024-11-22T20:36:50.171752Z"
    },
    "id": "ad118a56c598",
    "papermill": {
     "duration": 65.671141,
     "end_time": "2024-11-22T20:36:50.188061",
     "exception": false,
     "start_time": "2024-11-22T20:35:44.516920",
     "status": "completed"
    },
    "tags": []
   },
   "outputs": [
    {
     "name": "stdout",
     "output_type": "stream",
     "text": [
      "positive\n"
     ]
    }
   ],
   "source": [
    "import enum\n",
    "\n",
    "class Sentiment(enum.Enum):\n",
    "    POSITIVE = \"positive\"\n",
    "    NEUTRAL = \"neutral\"\n",
    "    NEGATIVE = \"negative\"\n",
    "\n",
    "\n",
    "model = genai.GenerativeModel(\n",
    "    'gemini-1.5-flash-001',\n",
    "    generation_config=genai.GenerationConfig(\n",
    "        response_mime_type=\"text/x.enum\",\n",
    "        response_schema=Sentiment\n",
    "    ))\n",
    "\n",
    "response = model.generate_content(zero_shot_prompt, request_options=retry_policy)\n",
    "print(response.text)"
   ]
  },
  {
   "cell_type": "markdown",
   "id": "0ab2927b",
   "metadata": {
    "id": "0udiSwNbv45W",
    "papermill": {
     "duration": 0.012586,
     "end_time": "2024-11-22T20:36:50.214062",
     "exception": false,
     "start_time": "2024-11-22T20:36:50.201476",
     "status": "completed"
    },
    "tags": []
   },
   "source": [
    "### One-shot and few-shot\n",
    "\n",
    "Providing an example of the expected response is known as a \"one-shot\" prompt. When you provide multiple examples, it is a \"few-shot\" prompt.\n",
    "\n",
    "<table align=left>\n",
    "  <td>\n",
    "    <a target=\"_blank\" href=\"https://aistudio.google.com/prompts/1jjWkjUSoMXmLvMJ7IzADr_GxHPJVV2bg\"><img src=\"https://ai.google.dev/site-assets/images/marketing/home/icon-ais.png\" style=\"height: 24px\" height=24/> Open in AI Studio</a>\n",
    "  </td>\n",
    "</table>\n"
   ]
  },
  {
   "cell_type": "code",
   "execution_count": 19,
   "id": "1b7f2151",
   "metadata": {
    "execution": {
     "iopub.execute_input": "2024-11-22T20:36:50.242093Z",
     "iopub.status.busy": "2024-11-22T20:36:50.241669Z",
     "iopub.status.idle": "2024-11-22T20:36:50.835952Z",
     "shell.execute_reply": "2024-11-22T20:36:50.834651Z"
    },
    "id": "hd4mVUukwOKZ",
    "papermill": {
     "duration": 0.611815,
     "end_time": "2024-11-22T20:36:50.839051",
     "exception": false,
     "start_time": "2024-11-22T20:36:50.227236",
     "status": "completed"
    },
    "tags": []
   },
   "outputs": [
    {
     "name": "stdout",
     "output_type": "stream",
     "text": [
      "```json\n",
      "{\n",
      "  \"size\": \"large\",\n",
      "  \"type\": \"normal\",\n",
      "  \"ingredients\": [\"cheese\", \"pineapple\"]\n",
      "}\n",
      "```\n",
      "\n"
     ]
    }
   ],
   "source": [
    "model = genai.GenerativeModel(\n",
    "    'gemini-1.5-flash-latest',\n",
    "    generation_config=genai.GenerationConfig(\n",
    "        temperature=0.1,\n",
    "        top_p=1,\n",
    "        max_output_tokens=250,\n",
    "    ))\n",
    "\n",
    "few_shot_prompt = \"\"\"Parse a customer's pizza order into valid JSON:\n",
    "\n",
    "EXAMPLE:\n",
    "I want a small pizza with cheese, tomato sauce, and pepperoni.\n",
    "JSON Response:\n",
    "```\n",
    "{\n",
    "\"size\": \"small\",\n",
    "\"type\": \"normal\",\n",
    "\"ingredients\": [\"cheese\", \"tomato sauce\", \"peperoni\"]\n",
    "}\n",
    "```\n",
    "\n",
    "EXAMPLE:\n",
    "Can I get a large pizza with tomato sauce, basil and mozzarella\n",
    "JSON Response:\n",
    "```\n",
    "{\n",
    "\"size\": \"large\",\n",
    "\"type\": \"normal\",\n",
    "\"ingredients\": [\"tomato sauce\", \"basil\", \"mozzarella\"]\n",
    "}\n",
    "\n",
    "ORDER:\n",
    "\"\"\"\n",
    "\n",
    "customer_order = \"Give me a large with cheese & pineapple\"\n",
    "\n",
    "\n",
    "response = model.generate_content([few_shot_prompt, customer_order], request_options=retry_policy)\n",
    "print(response.text)"
   ]
  },
  {
   "cell_type": "markdown",
   "id": "1677e253",
   "metadata": {
    "id": "021293096f08",
    "papermill": {
     "duration": 0.012829,
     "end_time": "2024-11-22T20:36:50.866640",
     "exception": false,
     "start_time": "2024-11-22T20:36:50.853811",
     "status": "completed"
    },
    "tags": []
   },
   "source": [
    "#### JSON mode\n",
    "\n",
    "To provide control over the schema, and to ensure that you only receive JSON (with no other text or markdown), you can use the Gemini API's [JSON mode](https://github.com/google-gemini/cookbook/blob/main/quickstarts/JSON_mode.ipynb). This forces the model to constrain decoding, such that token selection is guided by the supplied schema."
   ]
  },
  {
   "cell_type": "code",
   "execution_count": 20,
   "id": "fbaa770b",
   "metadata": {
    "execution": {
     "iopub.execute_input": "2024-11-22T20:36:50.895778Z",
     "iopub.status.busy": "2024-11-22T20:36:50.895376Z",
     "iopub.status.idle": "2024-11-22T20:36:51.508326Z",
     "shell.execute_reply": "2024-11-22T20:36:51.506931Z"
    },
    "id": "50fbf0260912",
    "papermill": {
     "duration": 0.630829,
     "end_time": "2024-11-22T20:36:51.510797",
     "exception": false,
     "start_time": "2024-11-22T20:36:50.879968",
     "status": "completed"
    },
    "tags": []
   },
   "outputs": [
    {
     "name": "stdout",
     "output_type": "stream",
     "text": [
      "{\"ingredients\": [\"apple\", \"chocolate\"], \"size\": \"large\", \"type\": \"dessert pizza\"}\n"
     ]
    }
   ],
   "source": [
    "import typing_extensions as typing\n",
    "\n",
    "class PizzaOrder(typing.TypedDict):\n",
    "    size: str\n",
    "    ingredients: list[str]\n",
    "    type: str\n",
    "\n",
    "\n",
    "model = genai.GenerativeModel(\n",
    "    'gemini-1.5-flash-latest',\n",
    "    generation_config=genai.GenerationConfig(\n",
    "        temperature=0.1,\n",
    "        response_mime_type=\"application/json\",\n",
    "        response_schema=PizzaOrder,\n",
    "    ))\n",
    "\n",
    "response = model.generate_content(\"Can I have a large dessert pizza with apple and chocolate\")\n",
    "print(response.text)"
   ]
  },
  {
   "cell_type": "markdown",
   "id": "b968d9f8",
   "metadata": {
    "id": "4a93e338e57c",
    "papermill": {
     "duration": 0.012971,
     "end_time": "2024-11-22T20:36:51.537227",
     "exception": false,
     "start_time": "2024-11-22T20:36:51.524256",
     "status": "completed"
    },
    "tags": []
   },
   "source": [
    "### Chain of Thought (CoT)\n",
    "\n",
    "Direct prompting on LLMs can return answers quickly and (in terms of output token usage) efficiently, but they can be prone to hallucination. The answer may \"look\" correct (in terms of language and syntax) but is incorrect in terms of factuality and reasoning.\n",
    "\n",
    "Chain-of-Thought prompting is a technique where you instruct the model to output intermediate reasoning steps, and it typically gets better results, especially when combined with few-shot examples. It is worth noting that this technique doesn't completely eliminate hallucinations, and that it tends to cost more to run, due to the increased token count.\n",
    "\n",
    "As models like the Gemini family are trained to be \"chatty\" and provide reasoning steps, you can ask the model to be more direct in the prompt."
   ]
  },
  {
   "cell_type": "code",
   "execution_count": 21,
   "id": "e9301609",
   "metadata": {
    "execution": {
     "iopub.execute_input": "2024-11-22T20:36:51.565052Z",
     "iopub.status.busy": "2024-11-22T20:36:51.564649Z",
     "iopub.status.idle": "2024-11-22T20:36:51.899019Z",
     "shell.execute_reply": "2024-11-22T20:36:51.897805Z"
    },
    "id": "5715555db1c1",
    "papermill": {
     "duration": 0.350845,
     "end_time": "2024-11-22T20:36:51.901196",
     "exception": false,
     "start_time": "2024-11-22T20:36:51.550351",
     "status": "completed"
    },
    "tags": []
   },
   "outputs": [
    {
     "name": "stdout",
     "output_type": "stream",
     "text": [
      "47\n",
      "\n"
     ]
    }
   ],
   "source": [
    "prompt = \"\"\"When I was 4 years old, my partner was 3 times my age. Now, I\n",
    "am 20 years old. How old is my partner? Return the answer directly.\"\"\"\n",
    "\n",
    "model = genai.GenerativeModel('gemini-1.5-flash-latest')\n",
    "response = model.generate_content(prompt, request_options=retry_policy)\n",
    "\n",
    "print(response.text)"
   ]
  },
  {
   "cell_type": "markdown",
   "id": "c2a40be2",
   "metadata": {
    "id": "e12b19677bfd",
    "papermill": {
     "duration": 0.012814,
     "end_time": "2024-11-22T20:36:51.928253",
     "exception": false,
     "start_time": "2024-11-22T20:36:51.915439",
     "status": "completed"
    },
    "tags": []
   },
   "source": [
    "Now try the same approach, but indicate to the model that it should \"think step by step\"."
   ]
  },
  {
   "cell_type": "code",
   "execution_count": 22,
   "id": "42007846",
   "metadata": {
    "execution": {
     "iopub.execute_input": "2024-11-22T20:36:51.955969Z",
     "iopub.status.busy": "2024-11-22T20:36:51.955414Z",
     "iopub.status.idle": "2024-11-22T20:36:53.294156Z",
     "shell.execute_reply": "2024-11-22T20:36:53.292510Z"
    },
    "id": "ffd7536a481f",
    "papermill": {
     "duration": 1.35537,
     "end_time": "2024-11-22T20:36:53.296612",
     "exception": false,
     "start_time": "2024-11-22T20:36:51.941242",
     "status": "completed"
    },
    "tags": []
   },
   "outputs": [
    {
     "name": "stdout",
     "output_type": "stream",
     "text": [
      "Step 1: Find the partner's age when you were 4.\n",
      "\n",
      "* When you were 4, your partner was 3 times your age, so they were 3 * 4 = 12 years old.\n",
      "\n",
      "Step 2: Find the age difference between you and your partner.\n",
      "\n",
      "* The age difference is 12 - 4 = 8 years.\n",
      "\n",
      "Step 3: Calculate your partner's current age.\n",
      "\n",
      "* You are now 20 years old.\n",
      "* Your partner is 8 years older than you.\n",
      "* Therefore, your partner is currently 20 + 8 = 28 years old.\n",
      "\n",
      "So the answer is $\\boxed{28}$\n",
      "\n"
     ]
    }
   ],
   "source": [
    "prompt = \"\"\"When I was 4 years old, my partner was 3 times my age. Now,\n",
    "I am 20 years old. How old is my partner? Let's think step by step.\"\"\"\n",
    "\n",
    "response = model.generate_content(prompt, request_options=retry_policy)\n",
    "print(response.text)"
   ]
  },
  {
   "cell_type": "markdown",
   "id": "8b3d306b",
   "metadata": {
    "id": "oiLgBQJj0V53",
    "papermill": {
     "duration": 0.013559,
     "end_time": "2024-11-22T20:36:53.324110",
     "exception": false,
     "start_time": "2024-11-22T20:36:53.310551",
     "status": "completed"
    },
    "tags": []
   },
   "source": [
    "### ReAct: Reason and act\n",
    "\n",
    "In this example you will run a ReAct prompt directly in the Gemini API and perform the searching steps yourself. As this prompt follows a well-defined structure, there are frameworks available that wrap the prompt into easier-to-use APIs that make tool calls automatically, such as the LangChain example from the chapter.\n",
    "\n",
    "To try this out with the Wikipedia search engine, check out the [Searching Wikipedia with ReAct](https://github.com/google-gemini/cookbook/blob/main/examples/Search_Wikipedia_using_ReAct.ipynb) cookbook example.\n",
    "\n",
    "\n",
    "> Note: The prompt and in-context examples used here are from [https://github.com/ysymyth/ReAct](https://github.com/ysymyth/ReAct) which is published under a [MIT license](https://opensource.org/licenses/MIT), Copyright (c) 2023 Shunyu Yao.\n",
    "\n",
    "<table align=left>\n",
    "  <td>\n",
    "    <a target=\"_blank\" href=\"https://aistudio.google.com/prompts/18oo63Lwosd-bQ6Ay51uGogB3Wk3H8XMO\"><img src=\"https://ai.google.dev/site-assets/images/marketing/home/icon-ais.png\" style=\"height: 24px\" height=24/> Open in AI Studio</a>\n",
    "  </td>\n",
    "</table>\n"
   ]
  },
  {
   "cell_type": "code",
   "execution_count": 23,
   "id": "1034f0da",
   "metadata": {
    "execution": {
     "iopub.execute_input": "2024-11-22T20:36:53.352553Z",
     "iopub.status.busy": "2024-11-22T20:36:53.352179Z",
     "iopub.status.idle": "2024-11-22T20:36:53.359248Z",
     "shell.execute_reply": "2024-11-22T20:36:53.358132Z"
    },
    "id": "cBgyNJ5z0VSs",
    "papermill": {
     "duration": 0.024027,
     "end_time": "2024-11-22T20:36:53.361580",
     "exception": false,
     "start_time": "2024-11-22T20:36:53.337553",
     "status": "completed"
    },
    "tags": []
   },
   "outputs": [],
   "source": [
    "model_instructions = \"\"\"\n",
    "Solve a question answering task with interleaving Thought, Action, Observation steps. Thought can reason about the current situation,\n",
    "Observation is understanding relevant information from an Action's output and Action can be one of three types:\n",
    " (1) <search>entity</search>, which searches the exact entity on Wikipedia and returns the first paragraph if it exists. If not, it\n",
    "     will return some similar entities to search and you can try to search the information from those topics.\n",
    " (2) <lookup>keyword</lookup>, which returns the next sentence containing keyword in the current context. This only does exact matches,\n",
    "     so keep your searches short.\n",
    " (3) <finish>answer</finish>, which returns the answer and finishes the task.\n",
    "\"\"\"\n",
    "\n",
    "example1 = \"\"\"Question\n",
    "Musician and satirist Allie Goertz wrote a song about the \"The Simpsons\" character Milhouse, who Matt Groening named after who?\n",
    "\n",
    "Thought 1\n",
    "The question simplifies to \"The Simpsons\" character Milhouse is named after who. I only need to search Milhouse and find who it is named after.\n",
    "\n",
    "Action 1\n",
    "<search>Milhouse</search>\n",
    "\n",
    "Observation 1\n",
    "Milhouse Mussolini Van Houten is a recurring character in the Fox animated television series The Simpsons voiced by Pamela Hayden and created by Matt Groening.\n",
    "\n",
    "Thought 2\n",
    "The paragraph does not tell who Milhouse is named after, maybe I can look up \"named after\".\n",
    "\n",
    "Action 2\n",
    "<lookup>named after</lookup>\n",
    "\n",
    "Observation 2\n",
    "Milhouse was named after U.S. president Richard Nixon, whose middle name was Milhous.\n",
    "\n",
    "Thought 3\n",
    "Milhouse was named after U.S. president Richard Nixon, so the answer is Richard Nixon.\n",
    "\n",
    "Action 3\n",
    "<finish>Richard Nixon</finish>\n",
    "\"\"\"\n",
    "\n",
    "example2 = \"\"\"Question\n",
    "What is the elevation range for the area that the eastern sector of the Colorado orogeny extends into?\n",
    "\n",
    "Thought 1\n",
    "I need to search Colorado orogeny, find the area that the eastern sector of the Colorado orogeny extends into, then find the elevation range of the area.\n",
    "\n",
    "Action 1\n",
    "<search>Colorado orogeny</search>\n",
    "\n",
    "Observation 1\n",
    "The Colorado orogeny was an episode of mountain building (an orogeny) in Colorado and surrounding areas.\n",
    "\n",
    "Thought 2\n",
    "It does not mention the eastern sector. So I need to look up eastern sector.\n",
    "\n",
    "Action 2\n",
    "<lookup>eastern sector</lookup>\n",
    "\n",
    "Observation 2\n",
    "The eastern sector extends into the High Plains and is called the Central Plains orogeny.\n",
    "\n",
    "Thought 3\n",
    "The eastern sector of Colorado orogeny extends into the High Plains. So I need to search High Plains and find its elevation range.\n",
    "\n",
    "Action 3\n",
    "<search>High Plains</search>\n",
    "\n",
    "Observation 3\n",
    "High Plains refers to one of two distinct land regions\n",
    "\n",
    "Thought 4\n",
    "I need to instead search High Plains (United States).\n",
    "\n",
    "Action 4\n",
    "<search>High Plains (United States)</search>\n",
    "\n",
    "Observation 4\n",
    "The High Plains are a subregion of the Great Plains. From east to west, the High Plains rise in elevation from around 1,800 to 7,000 ft (550 to 2,130m).\n",
    "\n",
    "Thought 5\n",
    "High Plains rise in elevation from around 1,800 to 7,000 ft, so the answer is 1,800 to 7,000 ft.\n",
    "\n",
    "Action 5\n",
    "<finish>1,800 to 7,000 ft</finish>\n",
    "\"\"\"\n",
    "\n",
    "# Come up with more examples yourself, or take a look through https://github.com/ysymyth/ReAct/"
   ]
  },
  {
   "cell_type": "markdown",
   "id": "80677a4f",
   "metadata": {
    "id": "C3wbfstjTgey",
    "papermill": {
     "duration": 0.012527,
     "end_time": "2024-11-22T20:36:53.387310",
     "exception": false,
     "start_time": "2024-11-22T20:36:53.374783",
     "status": "completed"
    },
    "tags": []
   },
   "source": [
    "To capture a single step at a time, while ignoring any hallucinated Observation steps, you will use `stop_sequences` to end the generation process. The steps are `Thought`, `Action`, `Observation`, in that order."
   ]
  },
  {
   "cell_type": "code",
   "execution_count": 24,
   "id": "61a9723e",
   "metadata": {
    "execution": {
     "iopub.execute_input": "2024-11-22T20:36:53.415407Z",
     "iopub.status.busy": "2024-11-22T20:36:53.414696Z",
     "iopub.status.idle": "2024-11-22T20:36:57.743842Z",
     "shell.execute_reply": "2024-11-22T20:36:57.742628Z"
    },
    "id": "8mxrXRkRTdXm",
    "papermill": {
     "duration": 4.346115,
     "end_time": "2024-11-22T20:36:57.746452",
     "exception": false,
     "start_time": "2024-11-22T20:36:53.400337",
     "status": "completed"
    },
    "tags": []
   },
   "outputs": [
    {
     "name": "stdout",
     "output_type": "stream",
     "text": [
      "Thought 1\n",
      "I need to find the Transformers NLP paper and then find the authors and their ages.  This will require searching for the paper and then potentially looking at author bios or other external sources for age information.\n",
      "\n",
      "Action 1\n",
      "<search>Transformers NLP paper</search>\n",
      "\n"
     ]
    }
   ],
   "source": [
    "question = \"\"\"Question\n",
    "Who was the youngest author listed on the transformers NLP paper?\n",
    "\"\"\"\n",
    "\n",
    "model = genai.GenerativeModel('gemini-1.5-flash-latest')\n",
    "react_chat = model.start_chat()\n",
    "\n",
    "# You will perform the Action, so generate up to, but not including, the Observation.\n",
    "config = genai.GenerationConfig(stop_sequences=[\"\\nObservation\"])\n",
    "\n",
    "resp = react_chat.send_message(\n",
    "    [model_instructions, example1, example2, question],\n",
    "    generation_config=config,\n",
    "    request_options=retry_policy)\n",
    "print(resp.text)"
   ]
  },
  {
   "cell_type": "markdown",
   "id": "8ba566cc",
   "metadata": {
    "id": "aW2PIdLbVv3l",
    "papermill": {
     "duration": 0.012772,
     "end_time": "2024-11-22T20:36:57.772664",
     "exception": false,
     "start_time": "2024-11-22T20:36:57.759892",
     "status": "completed"
    },
    "tags": []
   },
   "source": [
    "Now you can perform this research yourself and supply it back to the model."
   ]
  },
  {
   "cell_type": "code",
   "execution_count": 25,
   "id": "b586fb51",
   "metadata": {
    "execution": {
     "iopub.execute_input": "2024-11-22T20:36:57.802120Z",
     "iopub.status.busy": "2024-11-22T20:36:57.801714Z",
     "iopub.status.idle": "2024-11-22T20:37:00.936960Z",
     "shell.execute_reply": "2024-11-22T20:37:00.935668Z"
    },
    "id": "mLMc0DZaV9g2",
    "papermill": {
     "duration": 3.152995,
     "end_time": "2024-11-22T20:37:00.939659",
     "exception": false,
     "start_time": "2024-11-22T20:36:57.786664",
     "status": "completed"
    },
    "tags": []
   },
   "outputs": [
    {
     "name": "stdout",
     "output_type": "stream",
     "text": [
      "Thought 2\n",
      "The observation gives the authors of the paper \"Attention is All You Need,\" but not their ages.  I'll need to search for each author individually to try and find their age or date of birth.  This is likely to be difficult as age isn't readily available information for researchers.  I'll start with the authors and see if I can find age information.  If I can't find it for all of them, I may need to adjust my strategy.\n",
      "\n",
      "\n",
      "Action 2\n",
      "<search>Ashish Vaswani age</search>\n",
      "\n"
     ]
    }
   ],
   "source": [
    "observation = \"\"\"Observation 1\n",
    "[1706.03762] Attention Is All You Need\n",
    "Ashish Vaswani, Noam Shazeer, Niki Parmar, Jakob Uszkoreit, Llion Jones, Aidan N. Gomez, Lukasz Kaiser, Illia Polosukhin\n",
    "We propose a new simple network architecture, the Transformer, based solely on attention mechanisms, dispensing with recurrence and convolutions entirely.\n",
    "\"\"\"\n",
    "resp = react_chat.send_message(observation, generation_config=config, request_options=retry_policy)\n",
    "print(resp.text)"
   ]
  },
  {
   "cell_type": "markdown",
   "id": "4488053a",
   "metadata": {
    "id": "bo0tzf4nX6dA",
    "papermill": {
     "duration": 0.013178,
     "end_time": "2024-11-22T20:37:00.966794",
     "exception": false,
     "start_time": "2024-11-22T20:37:00.953616",
     "status": "completed"
    },
    "tags": []
   },
   "source": [
    "This process repeats until the `<finish>` action is reached. You can continue running this yourself if you like, or try the [Wikipedia example](https://github.com/google-gemini/cookbook/blob/main/examples/Search_Wikipedia_using_ReAct.ipynb) to see a fully automated ReAct system at work."
   ]
  },
  {
   "cell_type": "markdown",
   "id": "dce63dc6",
   "metadata": {
    "id": "jPiZ_eIIaVPt",
    "papermill": {
     "duration": 0.012907,
     "end_time": "2024-11-22T20:37:00.992920",
     "exception": false,
     "start_time": "2024-11-22T20:37:00.980013",
     "status": "completed"
    },
    "tags": []
   },
   "source": [
    "## Code prompting"
   ]
  },
  {
   "cell_type": "markdown",
   "id": "787871eb",
   "metadata": {
    "id": "ZinKamwXeR6C",
    "papermill": {
     "duration": 0.012765,
     "end_time": "2024-11-22T20:37:01.018777",
     "exception": false,
     "start_time": "2024-11-22T20:37:01.006012",
     "status": "completed"
    },
    "tags": []
   },
   "source": [
    "### Generating code\n",
    "\n",
    "The Gemini family of models can be used to generate code, configuration and scripts. Generating code can be helpful when learning to code, learning a new language or for rapidly generating a first draft.\n",
    "\n",
    "It's important to be aware that since LLMs can't reason, and can repeat training data, it's essential to read and test your code first, and comply with any relevant licenses.\n",
    "\n",
    "<table align=left>\n",
    "  <td>\n",
    "    <a target=\"_blank\" href=\"https://aistudio.google.com/prompts/1YX71JGtzDjXQkgdes8bP6i3oH5lCRKxv\"><img src=\"https://ai.google.dev/site-assets/images/marketing/home/icon-ais.png\" style=\"height: 24px\" height=24/> Open in AI Studio</a>\n",
    "  </td>\n",
    "</table>"
   ]
  },
  {
   "cell_type": "code",
   "execution_count": 26,
   "id": "8480b66d",
   "metadata": {
    "execution": {
     "iopub.execute_input": "2024-11-22T20:37:01.046890Z",
     "iopub.status.busy": "2024-11-22T20:37:01.046490Z",
     "iopub.status.idle": "2024-11-22T20:37:01.704876Z",
     "shell.execute_reply": "2024-11-22T20:37:01.703720Z"
    },
    "id": "fOQP9pqmeUO1",
    "papermill": {
     "duration": 0.675748,
     "end_time": "2024-11-22T20:37:01.707727",
     "exception": false,
     "start_time": "2024-11-22T20:37:01.031979",
     "status": "completed"
    },
    "tags": []
   },
   "outputs": [
    {
     "data": {
      "text/markdown": [
       "```python\n",
       "def factorial(n):\n",
       "  if n == 0:\n",
       "    return 1\n",
       "  else:\n",
       "    return n * factorial(n-1)\n",
       "```\n"
      ],
      "text/plain": [
       "<IPython.core.display.Markdown object>"
      ]
     },
     "execution_count": 26,
     "metadata": {},
     "output_type": "execute_result"
    }
   ],
   "source": [
    "model = genai.GenerativeModel(\n",
    "    'gemini-1.5-flash-latest',\n",
    "    generation_config=genai.GenerationConfig(\n",
    "        temperature=1,\n",
    "        top_p=1,\n",
    "        max_output_tokens=1024,\n",
    "    ))\n",
    "\n",
    "# Gemini 1.5 models are very chatty, so it helps to specify they stick to the code.\n",
    "code_prompt = \"\"\"\n",
    "Write a Python function to calculate the factorial of a number. No explanation, provide only the code.\n",
    "\"\"\"\n",
    "\n",
    "response = model.generate_content(code_prompt, request_options=retry_policy)\n",
    "Markdown(response.text)"
   ]
  },
  {
   "cell_type": "markdown",
   "id": "575bf793",
   "metadata": {
    "id": "wlBMWSFhgVRQ",
    "papermill": {
     "duration": 0.013612,
     "end_time": "2024-11-22T20:37:01.740011",
     "exception": false,
     "start_time": "2024-11-22T20:37:01.726399",
     "status": "completed"
    },
    "tags": []
   },
   "source": [
    "### Code execution\n",
    "\n",
    "The Gemini API can automatically run generated code too, and will return the output.\n",
    "\n",
    "<table align=left>\n",
    "  <td>\n",
    "    <a target=\"_blank\" href=\"https://aistudio.google.com/prompts/11veFr_VYEwBWcLkhNLr-maCG0G8sS_7Z\"><img src=\"https://ai.google.dev/site-assets/images/marketing/home/icon-ais.png\" style=\"height: 24px\" height=24/> Open in AI Studio</a>\n",
    "  </td>\n",
    "</table>"
   ]
  },
  {
   "cell_type": "code",
   "execution_count": 27,
   "id": "c9b803bf",
   "metadata": {
    "execution": {
     "iopub.execute_input": "2024-11-22T20:37:01.769276Z",
     "iopub.status.busy": "2024-11-22T20:37:01.768751Z",
     "iopub.status.idle": "2024-11-22T20:37:05.917444Z",
     "shell.execute_reply": "2024-11-22T20:37:05.916154Z"
    },
    "id": "jT3OfWYfhjRL",
    "papermill": {
     "duration": 4.166304,
     "end_time": "2024-11-22T20:37:05.919917",
     "exception": false,
     "start_time": "2024-11-22T20:37:01.753613",
     "status": "completed"
    },
    "tags": []
   },
   "outputs": [
    {
     "data": {
      "text/markdown": [
       "To calculate the sum of the first 14 odd prime numbers, I will first generate a list of prime numbers and then sum the first 14 odd primes from that list.  Note that 2 is the only even prime number.\n",
       "\n",
       "\n",
       "``` python\n",
       "def is_prime(n):\n",
       "    \"\"\"Checks if a number is prime.\"\"\"\n",
       "    if n <= 1:\n",
       "        return False\n",
       "    if n <= 3:\n",
       "        return True\n",
       "    if n % 2 == 0 or n % 3 == 0:\n",
       "        return False\n",
       "    i = 5\n",
       "    while i * i <= n:\n",
       "        if n % i == 0 or n % (i + 2) == 0:\n",
       "            return False\n",
       "        i += 6\n",
       "    return True\n",
       "\n",
       "primes = []\n",
       "num = 2\n",
       "count = 0\n",
       "while count < 14:\n",
       "    if is_prime(num) and num % 2 != 0:\n",
       "        primes.append(num)\n",
       "        count += 1\n",
       "    num += 1\n",
       "\n",
       "print(f\"The first 14 odd prime numbers are: {primes}\")\n",
       "sum_of_primes = sum(primes)\n",
       "print(f\"The sum of the first 14 odd prime numbers is: {sum_of_primes}\")\n",
       "\n",
       "\n",
       "```\n",
       "```\n",
       "The first 14 odd prime numbers are: [3, 5, 7, 11, 13, 17, 19, 23, 29, 31, 37, 41, 43, 47]\n",
       "The sum of the first 14 odd prime numbers is: 326\n",
       "\n",
       "```\n",
       "The code identifies the first 14 odd prime numbers and calculates their sum.  The output shows that the first 14 odd primes are 3, 5, 7, 11, 13, 17, 19, 23, 29, 31, 37, 41, 43, and 47. Their sum is 326.\n"
      ],
      "text/plain": [
       "<IPython.core.display.Markdown object>"
      ]
     },
     "execution_count": 27,
     "metadata": {},
     "output_type": "execute_result"
    }
   ],
   "source": [
    "model = genai.GenerativeModel(\n",
    "    'gemini-1.5-flash-latest',\n",
    "    tools='code_execution',)\n",
    "\n",
    "code_exec_prompt = \"\"\"\n",
    "Calculate the sum of the first 14 prime numbers. Only consider the odd primes, and make sure you count them all.\n",
    "\"\"\"\n",
    "\n",
    "response = model.generate_content(code_exec_prompt, request_options=retry_policy)\n",
    "Markdown(response.text)"
   ]
  },
  {
   "cell_type": "markdown",
   "id": "f48404f1",
   "metadata": {
    "id": "ZspT1GSkjG6d",
    "papermill": {
     "duration": 0.013458,
     "end_time": "2024-11-22T20:37:05.947069",
     "exception": false,
     "start_time": "2024-11-22T20:37:05.933611",
     "status": "completed"
    },
    "tags": []
   },
   "source": [
    "While this looks like a single-part response, you can inspect the response to see the each of the steps: initial text, code generation, execution results, and final text summary."
   ]
  },
  {
   "cell_type": "code",
   "execution_count": 28,
   "id": "9c22b995",
   "metadata": {
    "execution": {
     "iopub.execute_input": "2024-11-22T20:37:05.978570Z",
     "iopub.status.busy": "2024-11-22T20:37:05.978177Z",
     "iopub.status.idle": "2024-11-22T20:37:05.984811Z",
     "shell.execute_reply": "2024-11-22T20:37:05.983591Z"
    },
    "id": "j4gQVzcRjRX-",
    "papermill": {
     "duration": 0.025294,
     "end_time": "2024-11-22T20:37:05.987220",
     "exception": false,
     "start_time": "2024-11-22T20:37:05.961926",
     "status": "completed"
    },
    "tags": []
   },
   "outputs": [
    {
     "name": "stdout",
     "output_type": "stream",
     "text": [
      "text: \"To calculate the sum of the first 14 odd prime numbers, I will first generate a list of prime numbers and then sum the first 14 odd primes from that list.  Note that 2 is the only even prime number.\\n\\n\"\n",
      "\n",
      "-----\n",
      "executable_code {\n",
      "  language: PYTHON\n",
      "  code: \"\\ndef is_prime(n):\\n    \\\"\\\"\\\"Checks if a number is prime.\\\"\\\"\\\"\\n    if n <= 1:\\n        return False\\n    if n <= 3:\\n        return True\\n    if n % 2 == 0 or n % 3 == 0:\\n        return False\\n    i = 5\\n    while i * i <= n:\\n        if n % i == 0 or n % (i + 2) == 0:\\n            return False\\n        i += 6\\n    return True\\n\\nprimes = []\\nnum = 2\\ncount = 0\\nwhile count < 14:\\n    if is_prime(num) and num % 2 != 0:\\n        primes.append(num)\\n        count += 1\\n    num += 1\\n\\nprint(f\\\"The first 14 odd prime numbers are: {primes}\\\")\\nsum_of_primes = sum(primes)\\nprint(f\\\"The sum of the first 14 odd prime numbers is: {sum_of_primes}\\\")\\n\\n\"\n",
      "}\n",
      "\n",
      "-----\n",
      "code_execution_result {\n",
      "  outcome: OUTCOME_OK\n",
      "  output: \"The first 14 odd prime numbers are: [3, 5, 7, 11, 13, 17, 19, 23, 29, 31, 37, 41, 43, 47]\\nThe sum of the first 14 odd prime numbers is: 326\\n\"\n",
      "}\n",
      "\n",
      "-----\n",
      "text: \"The code identifies the first 14 odd prime numbers and calculates their sum.  The output shows that the first 14 odd primes are 3, 5, 7, 11, 13, 17, 19, 23, 29, 31, 37, 41, 43, and 47. Their sum is 326.\\n\"\n",
      "\n",
      "-----\n"
     ]
    }
   ],
   "source": [
    "for part in response.candidates[0].content.parts:\n",
    "  print(part)\n",
    "  print(\"-----\")"
   ]
  },
  {
   "cell_type": "markdown",
   "id": "fcb2d1ce",
   "metadata": {
    "id": "1gUX8QzCj4d5",
    "papermill": {
     "duration": 0.01314,
     "end_time": "2024-11-22T20:37:06.014251",
     "exception": false,
     "start_time": "2024-11-22T20:37:06.001111",
     "status": "completed"
    },
    "tags": []
   },
   "source": [
    "### Explaining code\n",
    "\n",
    "The Gemini family of models can explain code to you too.\n",
    "\n",
    "<table align=left>\n",
    "  <td>\n",
    "    <a target=\"_blank\" href=\"https://aistudio.google.com/prompts/1N7LGzWzCYieyOf_7bAG4plrmkpDNmUyb\"><img src=\"https://ai.google.dev/site-assets/images/marketing/home/icon-ais.png\" style=\"height: 24px\" height=24/> Open in AI Studio</a>\n",
    "  </td>\n",
    "</table>"
   ]
  },
  {
   "cell_type": "code",
   "execution_count": 29,
   "id": "00a31b14",
   "metadata": {
    "execution": {
     "iopub.execute_input": "2024-11-22T20:37:06.043238Z",
     "iopub.status.busy": "2024-11-22T20:37:06.042870Z",
     "iopub.status.idle": "2024-11-22T20:37:09.362321Z",
     "shell.execute_reply": "2024-11-22T20:37:09.361221Z"
    },
    "id": "7_jPMMoxkIEb",
    "papermill": {
     "duration": 3.336512,
     "end_time": "2024-11-22T20:37:09.364414",
     "exception": false,
     "start_time": "2024-11-22T20:37:06.027902",
     "status": "completed"
    },
    "tags": []
   },
   "outputs": [
    {
     "data": {
      "text/markdown": [
       "This file is a bash script that enhances your shell prompt to display information about your current Git repository.  In short, it's a **Git prompt customization script**.\n",
       "\n",
       "You would use it to:\n",
       "\n",
       "* **Improve your Git workflow:** By providing at-a-glance information about your Git repository directly in your terminal prompt, you can quickly see the branch you're on, any uncommitted changes, and whether you're ahead or behind the remote repository. This avoids needing to constantly run `git status`.\n",
       "\n",
       "* **Customize your prompt's appearance:** The script allows for extensive customization of the prompt's colors, symbols, and layout through configuration files and variables. You can choose from pre-defined themes or create your own.\n",
       "\n",
       "* **Integrate with various tools:** It handles virtual environments (like virtualenv, conda, and nvm) and displays their information in the prompt.\n",
       "\n",
       "The script achieves this by defining a function (`setGitPrompt`) that's added to your shell's `PROMPT_COMMAND`.  Every time the prompt is displayed, this function runs, fetches the necessary Git information (branch, changes, etc.), and formats it into a colored and informative prompt string.  It also includes logic for handling various edge cases, such as determining the user's home directory and being compatible with both bash and zsh.\n"
      ],
      "text/plain": [
       "<IPython.core.display.Markdown object>"
      ]
     },
     "execution_count": 29,
     "metadata": {},
     "output_type": "execute_result"
    }
   ],
   "source": [
    "file_contents = !curl https://raw.githubusercontent.com/magicmonty/bash-git-prompt/refs/heads/master/gitprompt.sh\n",
    "\n",
    "explain_prompt = f\"\"\"\n",
    "Please explain what this file does at a very high level. What is it, and why would I use it?\n",
    "\n",
    "```\n",
    "{file_contents}\n",
    "```\n",
    "\"\"\"\n",
    "\n",
    "model = genai.GenerativeModel('gemini-1.5-flash-latest')\n",
    "\n",
    "response = model.generate_content(explain_prompt, request_options=retry_policy)\n",
    "Markdown(response.text)"
   ]
  },
  {
   "cell_type": "markdown",
   "id": "32da911e",
   "metadata": {
    "id": "2a8266d97ce5",
    "papermill": {
     "duration": 0.014524,
     "end_time": "2024-11-22T20:37:09.393424",
     "exception": false,
     "start_time": "2024-11-22T20:37:09.378900",
     "status": "completed"
    },
    "tags": []
   },
   "source": [
    "## Learn more\n",
    "\n",
    "To learn more about prompting in depth:\n",
    "\n",
    "* Check out the whitepaper issued with today's content,\n",
    "* Try out the apps listed at the top of this notebook ([TextFX](https://textfx.withgoogle.com/), [SQL Talk](https://sql-talk-r5gdynozbq-uc.a.run.app/) and [NotebookLM](https://notebooklm.google/)),\n",
    "* Read the [Introduction to Prompting](https://ai.google.dev/gemini-api/docs/prompting-intro) from the Gemini API docs,\n",
    "* Explore the Gemini API's [prompt gallery](https://ai.google.dev/gemini-api/prompts) and try them out in AI Studio,\n",
    "* Check out the Gemini API cookbook for [inspirational examples](https://github.com/google-gemini/cookbook/blob/main/examples/) and [educational quickstarts](https://github.com/google-gemini/cookbook/blob/main/quickstarts/).\n",
    "\n",
    "And please share anything exciting you have tried in the Discord!"
   ]
  }
 ],
 "metadata": {
  "colab": {
   "name": "day-1-prompting.ipynb",
   "toc_visible": true
  },
  "kaggle": {
   "accelerator": "none",
   "dataSources": [],
   "dockerImageVersionId": 30786,
   "isGpuEnabled": false,
   "isInternetEnabled": true,
   "language": "python",
   "sourceType": "notebook"
  },
  "kernelspec": {
   "display_name": "Python 3",
   "language": "python",
   "name": "python3"
  },
  "language_info": {
   "codemirror_mode": {
    "name": "ipython",
    "version": 3
   },
   "file_extension": ".py",
   "mimetype": "text/x-python",
   "name": "python",
   "nbconvert_exporter": "python",
   "pygments_lexer": "ipython3",
   "version": "3.10.14"
  },
  "papermill": {
   "default_parameters": {},
   "duration": 134.325383,
   "end_time": "2024-11-22T20:37:10.029048",
   "environment_variables": {},
   "exception": null,
   "input_path": "__notebook__.ipynb",
   "output_path": "__notebook__.ipynb",
   "parameters": {},
   "start_time": "2024-11-22T20:34:55.703665",
   "version": "2.6.0"
  }
 },
 "nbformat": 4,
 "nbformat_minor": 5
}
